{
  "nbformat": 4,
  "nbformat_minor": 0,
  "metadata": {
    "colab": {
      "name": "1. Gradient descent.ipynb",
      "provenance": [],
      "collapsed_sections": [],
      "authorship_tag": "ABX9TyMzyv3U1xcL3fpWBvMIKFVn",
      "include_colab_link": true
    },
    "kernelspec": {
      "name": "python3",
      "display_name": "Python 3"
    }
  },
  "cells": [
    {
      "cell_type": "markdown",
      "metadata": {
        "id": "view-in-github",
        "colab_type": "text"
      },
      "source": [
        "<a href=\"https://colab.research.google.com/github/rahulanand09/pytorch-fundamentals/blob/master/1_Gradient_descent.ipynb\" target=\"_parent\"><img src=\"https://colab.research.google.com/assets/colab-badge.svg\" alt=\"Open In Colab\"/></a>"
      ]
    },
    {
      "cell_type": "code",
      "metadata": {
        "id": "tuRhydEmuMJ7",
        "colab_type": "code",
        "colab": {}
      },
      "source": [
        "import numpy as np\n",
        "import matplotlib.pyplot as plt"
      ],
      "execution_count": 0,
      "outputs": []
    },
    {
      "cell_type": "markdown",
      "metadata": {
        "id": "Uu6SF_2oBBOM",
        "colab_type": "text"
      },
      "source": [
        "## Defining data"
      ]
    },
    {
      "cell_type": "code",
      "metadata": {
        "id": "6E6d4nXZuTcD",
        "colab_type": "code",
        "colab": {}
      },
      "source": [
        "x_data = [1,2,3,4,5,6,7,8,9,10]\n",
        "y_data = [2,4,6,8,10,12,14,16,18,20]\n",
        "w=1.0"
      ],
      "execution_count": 0,
      "outputs": []
    },
    {
      "cell_type": "markdown",
      "metadata": {
        "id": "eL4lkaHaBGMg",
        "colab_type": "text"
      },
      "source": [
        "## Defining forward pass & Loss fucntion "
      ]
    },
    {
      "cell_type": "code",
      "metadata": {
        "id": "_8EZ0TECwEkI",
        "colab_type": "code",
        "colab": {}
      },
      "source": [
        "\n"
      ],
      "execution_count": 0,
      "outputs": []
    },
    {
      "cell_type": "code",
      "metadata": {
        "id": "j8CInQiQwjOJ",
        "colab_type": "code",
        "colab": {}
      },
      "source": [
        "w_list = []\n",
        "mse_list =[]\n",
        "for w in np.arange(1,4,1):\n",
        "  print (\"w=\",w)\n",
        "  l_sum = 0\n",
        "  for x_val,y_val in zip(x_data,y_data):\n",
        "    y_pred = forward(x_val)\n",
        "    l = loss(x_val,y_val)\n",
        "    l_sum += l\n",
        "    print(\"\\t\", x_val,y_val,y_pred,l)\n",
        "  print(\"MSE=\", l_sum/len(x_data))\n",
        "  w_list.append(w)\n",
        "  mse_list.append(l_sum/len(x_data))\n",
        "\n",
        "\n",
        "# Plot it all\n",
        "plt.plot(w_list, mse_list)\n",
        "plt.ylabel('Loss')\n",
        "plt.xlabel('w')\n",
        "plt.show()"
      ],
      "execution_count": 0,
      "outputs": []
    },
    {
      "cell_type": "markdown",
      "metadata": {
        "id": "d43Iiwpk91y4",
        "colab_type": "text"
      },
      "source": [
        "## Implementing gradient descent - Manual \n",
        "1. Compute the derivative \n",
        "2. Update the weights \n",
        "3. Compute the loss & Print the progress \n"
      ]
    },
    {
      "cell_type": "code",
      "metadata": {
        "id": "0zMeguqZwl4N",
        "colab_type": "code",
        "colab": {}
      },
      "source": [
        "x_data = [1,2,3,4,5,6,7,8,9,10]\n",
        "y_data = [2,4,6,8,10,12,14,16,18,20]\n",
        "\n",
        "w=100000.0\n",
        "\n",
        "\n",
        "def forward(x):\n",
        "  return (x*w)\n",
        "\n",
        "def loss(x,y):\n",
        "  y_pred=forward(x)\n",
        "  return (y_pred - y)* (y_pred-y)\n",
        "\n",
        "def gradient(x,y):\n",
        "  return 2 * x * (x * w - y)"
      ],
      "execution_count": 0,
      "outputs": []
    },
    {
      "cell_type": "code",
      "metadata": {
        "id": "bBjqgze6D4-x",
        "colab_type": "code",
        "outputId": "c6333469-526a-496d-a249-52206fd7a3a7",
        "colab": {
          "base_uri": "https://localhost:8080/",
          "height": 33
        }
      },
      "source": [
        "# Before training\n",
        "print(\"Prediction (before training)\",  4, forward(4))"
      ],
      "execution_count": 0,
      "outputs": [
        {
          "output_type": "stream",
          "text": [
            "Prediction (before training) 4 400000.0\n"
          ],
          "name": "stdout"
        }
      ]
    },
    {
      "cell_type": "code",
      "metadata": {
        "id": "hLFq8_n9-SvU",
        "colab_type": "code",
        "outputId": "ddcfc5d7-8dff-4c9c-956e-d8fe10988692",
        "colab": {
          "base_uri": "https://localhost:8080/",
          "height": 561
        }
      },
      "source": [
        "for epoch in range(3):\n",
        "  for x_val,y_val in zip(x_data,y_data):\n",
        "    grad = gradient(x_val,y_val)\n",
        "    w = w-0.01*grad\n",
        "    l = loss(x_val,y_val)\n",
        "    print(\"\\t grad: \", x_val, y_val, round(grad, 2),l)\n",
        "  print(\"progress:\", epoch, \"w=\", round(w, 2), \"loss=\", round(l, 2))\n",
        "\n"
      ],
      "execution_count": 0,
      "outputs": [
        {
          "output_type": "stream",
          "text": [
            "\t grad:  1 2 199996.0 9603615843.841599\n",
            "\t grad:  2 4 783984.32 32514001800.910114\n",
            "\t grad:  3 6 1622847.54 49190433324.59691\n",
            "\t grad:  4 8 2365751.08 40436722434.29974\n",
            "\t grad:  5 10 2513610.53 15795594700.89833\n",
            "\t grad:  6 12 1809799.58 1783259459.3526173\n",
            "\t grad:  7 14 689734.73 970885.7056475346\n",
            "\t grad:  8 16 18017.56 99418.69625830755\n",
            "\t grad:  9 18 -6384.97 48367.81709651826\n",
            "\t grad:  10 20 4887.26 59713.35444014601\n",
            "progress: 0 w= -22.44 loss= 59713.35\n",
            "\t grad:  1 2 -48.87 573.4870560431623\n",
            "\t grad:  2 4 -191.58 1941.59777693973\n",
            "\t grad:  3 6 -396.57 2937.4432767321177\n",
            "\t grad:  4 8 -578.11 2414.7089265083223\n",
            "\t grad:  5 10 -614.25 943.2456744173134\n",
            "\t grad:  6 12 -442.26 106.48866365901698\n",
            "\t grad:  7 14 -168.55 0.05797716132546452\n",
            "\t grad:  8 16 -4.4 0.0059368613197276114\n",
            "\t grad:  9 18 1.56 0.002888320137430504\n",
            "\t grad:  10 20 -1.19 0.0035658273301611633\n",
            "progress: 1 w= 2.01 loss= 0.0\n",
            "\t grad:  1 2 0.01 3.42462056788671e-05\n",
            "\t grad:  2 4 0.05 0.00011594395394637476\n",
            "\t grad:  3 6 0.1 0.00017541160792549908\n",
            "\t grad:  4 8 0.14 0.0001441961377862037\n",
            "\t grad:  5 10 0.15 5.6326616322725815e-05\n",
            "\t grad:  6 12 0.11 6.359049676369164e-06\n",
            "\t grad:  7 14 0.04 3.4621492684084862e-09\n",
            "\t grad:  8 16 0.0 3.545240850475687e-10\n",
            "\t grad:  9 18 -0.0 1.724781831346101e-10\n",
            "\t grad:  10 20 0.0 2.129360286879728e-10\n",
            "progress: 2 w= 2.0 loss= 0.0\n"
          ],
          "name": "stdout"
        }
      ]
    },
    {
      "cell_type": "code",
      "metadata": {
        "id": "0A-15I3W-qsY",
        "colab_type": "code",
        "outputId": "a9d5d704-4908-42b6-ad41-8458346cb236",
        "colab": {
          "base_uri": "https://localhost:8080/",
          "height": 33
        }
      },
      "source": [
        "# After training\n",
        "print(\"Predicted score (after training)\", 4, forward(4))"
      ],
      "execution_count": 0,
      "outputs": [
        {
          "output_type": "stream",
          "text": [
            "Predicted score (after training) 4 7.999994163068907\n"
          ],
          "name": "stdout"
        }
      ]
    },
    {
      "cell_type": "code",
      "metadata": {
        "id": "teOOrdZvALvq",
        "colab_type": "code",
        "colab": {}
      },
      "source": [
        ""
      ],
      "execution_count": 0,
      "outputs": []
    }
  ]
}