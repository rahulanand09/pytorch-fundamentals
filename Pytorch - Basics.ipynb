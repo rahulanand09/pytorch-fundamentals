{
  "nbformat": 4,
  "nbformat_minor": 0,
  "metadata": {
    "colab": {
      "name": "Basics.ipynb",
      "provenance": [],
      "authorship_tag": "ABX9TyNGQrqePrvT8+goMFC77Df2",
      "include_colab_link": true
    },
    "kernelspec": {
      "name": "python3",
      "display_name": "Python 3"
    }
  },
  "cells": [
    {
      "cell_type": "markdown",
      "metadata": {
        "id": "view-in-github",
        "colab_type": "text"
      },
      "source": [
        "<a href=\"https://colab.research.google.com/github/rahulanand09/computervision/blob/master/Pytorch%20-%20Basics.ipynb\" target=\"_parent\"><img src=\"https://colab.research.google.com/assets/colab-badge.svg\" alt=\"Open In Colab\"/></a>"
      ]
    },
    {
      "cell_type": "code",
      "metadata": {
        "id": "tuRhydEmuMJ7",
        "colab_type": "code",
        "colab": {}
      },
      "source": [
        "import numpy as np\n",
        "import matplotlib.pyplot as plt"
      ],
      "execution_count": 0,
      "outputs": []
    },
    {
      "cell_type": "code",
      "metadata": {
        "id": "6E6d4nXZuTcD",
        "colab_type": "code",
        "colab": {}
      },
      "source": [
        "x_data = [1,2,3,4,5,6,7,8,9,10]\n",
        "y_data = [2,4,6,8,10,12,14,16,18,20]\n",
        "w=2.0"
      ],
      "execution_count": 0,
      "outputs": []
    },
    {
      "cell_type": "code",
      "metadata": {
        "id": "_8EZ0TECwEkI",
        "colab_type": "code",
        "colab": {}
      },
      "source": [
        "def forward(x):\n",
        "  return (x*w)\n",
        "\n",
        "def loss(x,y):\n",
        "  y_pred=forward(x)\n",
        "  return (y_pred - y)* (y_pred-y)\n"
      ],
      "execution_count": 0,
      "outputs": []
    },
    {
      "cell_type": "code",
      "metadata": {
        "id": "j8CInQiQwjOJ",
        "colab_type": "code",
        "colab": {}
      },
      "source": [
        "w_list = []\n",
        "mse_list =[]\n",
        "for w in np.arange(1,4,1):\n",
        "  print (\"w=\",w)\n",
        "  l_sum = 0\n",
        "  for x_val,y_val in zip(x_data,y_data):\n",
        "    y_pred = forward(x_val)\n",
        "    l = loss(x_val,y_val)\n",
        "    l_sum += l\n",
        "    print(\"\\t\", x_val,y_val,y_pred,l)\n",
        "  print(\"MSE=\", l_sum/len(x_data))\n",
        "  w_list.append(w)\n",
        "  mse_list.append(l_sum/len(x_data))\n",
        "\n",
        "\n",
        "# Plot it all\n",
        "plt.plot(w_list, mse_list)\n",
        "plt.ylabel('Loss')\n",
        "plt.xlabel('w')\n",
        "plt.show()"
      ],
      "execution_count": 0,
      "outputs": []
    },
    {
      "cell_type": "markdown",
      "metadata": {
        "id": "d43Iiwpk91y4",
        "colab_type": "text"
      },
      "source": [
        "## Implementing gradient descent \n"
      ]
    },
    {
      "cell_type": "code",
      "metadata": {
        "id": "0zMeguqZwl4N",
        "colab_type": "code",
        "colab": {}
      },
      "source": [
        ""
      ],
      "execution_count": 0,
      "outputs": []
    }
  ]
}